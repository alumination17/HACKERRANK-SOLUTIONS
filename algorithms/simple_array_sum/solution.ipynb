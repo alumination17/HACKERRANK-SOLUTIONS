{
  "cells": [
    {
      "metadata": {},
      "cell_type": "markdown",
      "source": "## Simple Array Sum Challenge on Hackerrank\n"
    },
    {
      "metadata": {
        "trusted": true
      },
      "cell_type": "code",
      "source": "#!/bin/python3\n\nimport os\nimport sys\n\n#\n# Complete the simpleArraySum function below.\n#\ndef simpleArraySum(ar):\n    return sum(ar)\n    # Write your code here.\n    return sum(ar)\n\n# if __name__ == '__main__':\n#     fptr = open(os.environ['OUTPUT_PATH'], 'w')\n\n#     ar_count = int(input())\n\n#     ar = list(map(int, input().rstrip().split()))\n\n#     result = simpleArraySum(ar)\n\n#     fptr.write(str(result) + '\\n')\n\n#     fptr.close()\n\nsimpleArraySum([2,16,27,88,91])",
      "execution_count": 3,
      "outputs": [
        {
          "output_type": "execute_result",
          "execution_count": 3,
          "data": {
            "text/plain": "224"
          },
          "metadata": {}
        }
      ]
    },
    {
      "metadata": {
        "trusted": true
      },
      "cell_type": "code",
      "source": "import os \n",
      "execution_count": 1,
      "outputs": []
    },
    {
      "metadata": {
        "trusted": true
      },
      "cell_type": "code",
      "source": "print(dir(os)) # check what can I do with OS module imported",
      "execution_count": 2,
      "outputs": [
        {
          "output_type": "stream",
          "text": "['CLD_CONTINUED', 'CLD_DUMPED', 'CLD_EXITED', 'CLD_TRAPPED', 'DirEntry', 'EX_CANTCREAT', 'EX_CONFIG', 'EX_DATAERR', 'EX_IOERR', 'EX_NOHOST', 'EX_NOINPUT', 'EX_NOPERM', 'EX_NOUSER', 'EX_OK', 'EX_OSERR', 'EX_OSFILE', 'EX_PROTOCOL', 'EX_SOFTWARE', 'EX_TEMPFAIL', 'EX_UNAVAILABLE', 'EX_USAGE', 'F_LOCK', 'F_OK', 'F_TEST', 'F_TLOCK', 'F_ULOCK', 'MutableMapping', 'NGROUPS_MAX', 'O_ACCMODE', 'O_APPEND', 'O_ASYNC', 'O_CLOEXEC', 'O_CREAT', 'O_DIRECT', 'O_DIRECTORY', 'O_DSYNC', 'O_EXCL', 'O_LARGEFILE', 'O_NDELAY', 'O_NOATIME', 'O_NOCTTY', 'O_NOFOLLOW', 'O_NONBLOCK', 'O_RDONLY', 'O_RDWR', 'O_RSYNC', 'O_SYNC', 'O_TRUNC', 'O_WRONLY', 'POSIX_FADV_DONTNEED', 'POSIX_FADV_NOREUSE', 'POSIX_FADV_NORMAL', 'POSIX_FADV_RANDOM', 'POSIX_FADV_SEQUENTIAL', 'POSIX_FADV_WILLNEED', 'PRIO_PGRP', 'PRIO_PROCESS', 'PRIO_USER', 'P_ALL', 'P_NOWAIT', 'P_NOWAITO', 'P_PGID', 'P_PID', 'P_WAIT', 'PathLike', 'RTLD_DEEPBIND', 'RTLD_GLOBAL', 'RTLD_LAZY', 'RTLD_LOCAL', 'RTLD_NODELETE', 'RTLD_NOLOAD', 'RTLD_NOW', 'R_OK', 'SCHED_BATCH', 'SCHED_FIFO', 'SCHED_IDLE', 'SCHED_OTHER', 'SCHED_RESET_ON_FORK', 'SCHED_RR', 'SEEK_CUR', 'SEEK_END', 'SEEK_SET', 'ST_APPEND', 'ST_MANDLOCK', 'ST_NOATIME', 'ST_NODEV', 'ST_NODIRATIME', 'ST_NOEXEC', 'ST_NOSUID', 'ST_RDONLY', 'ST_RELATIME', 'ST_SYNCHRONOUS', 'ST_WRITE', 'TMP_MAX', 'WCONTINUED', 'WCOREDUMP', 'WEXITED', 'WEXITSTATUS', 'WIFCONTINUED', 'WIFEXITED', 'WIFSIGNALED', 'WIFSTOPPED', 'WNOHANG', 'WNOWAIT', 'WSTOPPED', 'WSTOPSIG', 'WTERMSIG', 'WUNTRACED', 'W_OK', 'XATTR_CREATE', 'XATTR_REPLACE', 'XATTR_SIZE_MAX', 'X_OK', '_Environ', '__all__', '__builtins__', '__cached__', '__doc__', '__file__', '__loader__', '__name__', '__package__', '__spec__', '_execvpe', '_exists', '_exit', '_fspath', '_fwalk', '_get_exports_list', '_putenv', '_spawnvef', '_unsetenv', '_wrap_close', 'abc', 'abort', 'access', 'altsep', 'chdir', 'chmod', 'chown', 'chroot', 'close', 'closerange', 'confstr', 'confstr_names', 'cpu_count', 'ctermid', 'curdir', 'defpath', 'device_encoding', 'devnull', 'dup', 'dup2', 'environ', 'environb', 'errno', 'error', 'execl', 'execle', 'execlp', 'execlpe', 'execv', 'execve', 'execvp', 'execvpe', 'extsep', 'fchdir', 'fchmod', 'fchown', 'fdatasync', 'fdopen', 'fork', 'forkpty', 'fpathconf', 'fsdecode', 'fsencode', 'fspath', 'fstat', 'fstatvfs', 'fsync', 'ftruncate', 'fwalk', 'get_blocking', 'get_exec_path', 'get_inheritable', 'get_terminal_size', 'getcwd', 'getcwdb', 'getegid', 'getenv', 'getenvb', 'geteuid', 'getgid', 'getgrouplist', 'getgroups', 'getloadavg', 'getlogin', 'getpgid', 'getpgrp', 'getpid', 'getppid', 'getpriority', 'getresgid', 'getresuid', 'getsid', 'getuid', 'getxattr', 'initgroups', 'isatty', 'kill', 'killpg', 'lchown', 'linesep', 'link', 'listdir', 'listxattr', 'lockf', 'lseek', 'lstat', 'major', 'makedev', 'makedirs', 'minor', 'mkdir', 'mkfifo', 'mknod', 'name', 'nice', 'open', 'openpty', 'pardir', 'path', 'pathconf', 'pathconf_names', 'pathsep', 'pipe', 'pipe2', 'popen', 'posix_fadvise', 'posix_fallocate', 'pread', 'putenv', 'pwrite', 'read', 'readlink', 'readv', 'remove', 'removedirs', 'removexattr', 'rename', 'renames', 'replace', 'rmdir', 'scandir', 'sched_get_priority_max', 'sched_get_priority_min', 'sched_getaffinity', 'sched_getparam', 'sched_getscheduler', 'sched_param', 'sched_rr_get_interval', 'sched_setaffinity', 'sched_setparam', 'sched_setscheduler', 'sched_yield', 'sendfile', 'sep', 'set_blocking', 'set_inheritable', 'setegid', 'seteuid', 'setgid', 'setgroups', 'setpgid', 'setpgrp', 'setpriority', 'setregid', 'setresgid', 'setresuid', 'setreuid', 'setsid', 'setuid', 'setxattr', 'spawnl', 'spawnle', 'spawnlp', 'spawnlpe', 'spawnv', 'spawnve', 'spawnvp', 'spawnvpe', 'st', 'stat', 'stat_float_times', 'stat_result', 'statvfs', 'statvfs_result', 'strerror', 'supports_bytes_environ', 'supports_dir_fd', 'supports_effective_ids', 'supports_fd', 'supports_follow_symlinks', 'symlink', 'sync', 'sys', 'sysconf', 'sysconf_names', 'system', 'tcgetpgrp', 'tcsetpgrp', 'terminal_size', 'times', 'times_result', 'truncate', 'ttyname', 'umask', 'uname', 'uname_result', 'unlink', 'unsetenv', 'urandom', 'utime', 'wait', 'wait3', 'wait4', 'waitid', 'waitid_result', 'waitpid', 'walk', 'write', 'writev']\n",
          "name": "stdout"
        }
      ]
    },
    {
      "metadata": {
        "trusted": true
      },
      "cell_type": "code",
      "source": "print(os.environ) # revealing all environmental variables",
      "execution_count": 4,
      "outputs": [
        {
          "output_type": "stream",
          "text": "environ({'HOSTNAME': 'nbserver', 'SHELL': '/bin/bash', 'TERM': 'xterm-color', 'MSI_ENDPOINT': 'http://localhost:25198/nb/api/nbsvc/oauth2/token', 'http_proxy': 'http://webproxy:3128', 'USER': 'nbuser', 'LD_LIBRARY_PATH': '/usr/lib64/MRO-3.3.0/R-3.3.0/lib/R/lib:', 'SUDO_USER': 'root', 'AZURE_HTTP_USER_AGENT': 'AzureNotebooks/0.5.0', 'JPY_PARENT_PID': '42', 'USERNAME': 'nbuser', 'MAIL': '/var/mail/nbuser', 'PATH': '/home/nbuser/anaconda3_501/bin:/usr/local/bin:/usr/local/sbin:/usr/local/bin:/usr/sbin:/usr/bin:/sbin:/bin:/snap/bin:/home/nbuser/.local/bin', 'PWD': '/home/nbuser/library/HACKERRANK/Algorithms', 'R_LIBS': '/home/nbuser/R:/usr/local/lib/R/site-library:/usr/lib/R/site-library:/usr/lib/R/library', 'AZURE_NOTEBOOKS_SERVER_URL': 'http://localhost:25198/nb', 'LANG': 'en_US.UTF-8', 'NBUSER_ENV': 'yes', 'https_proxy': 'http://webproxy:3128', 'SUDO_COMMAND': '/bin/bash /.start.sh 25198 https://notebooks.azure.com nb 0021_ansprod1935nb 6b2e02c532334fb693e79a18949977248703b4b426ec4973ad8f854aa10961fe e1160796-a49f-4f9c-8942-2b02900b024a ansprod1935nb VM', 'SHLVL': '2', 'HOME': '/home/nbuser', 'AZURE_NOTEBOOKS_VMVERSION': 'dfcdb5e6e', 'no_proxy': 'localhost,nbserver,127.0.0.1', 'PYTHONPATH': '/home/nbuser/library', 'LOGNAME': 'nbuser', 'SUDO_GID': '0', 'AZURE_NOTEBOOKS_HOST': 'https://notebooks.azure.com', '_': '/home/nbuser/anaconda3_501/bin/python', 'CLICOLOR': '1', 'PAGER': 'cat', 'GIT_PAGER': 'cat', 'MPLBACKEND': 'module://ipykernel.pylab.backend_inline'})\n",
          "name": "stdout"
        }
      ]
    },
    {
      "metadata": {
        "trusted": true
      },
      "cell_type": "code",
      "source": "for k, v in os.environ.items():\n    print(f'{k}={v}')",
      "execution_count": 8,
      "outputs": [
        {
          "output_type": "stream",
          "text": "HOSTNAME=nbserver\nSHELL=/bin/bash\nTERM=xterm-color\nMSI_ENDPOINT=http://localhost:25198/nb/api/nbsvc/oauth2/token\nhttp_proxy=http://webproxy:3128\nUSER=nbuser\nLD_LIBRARY_PATH=/usr/lib64/MRO-3.3.0/R-3.3.0/lib/R/lib:\nSUDO_USER=root\nAZURE_HTTP_USER_AGENT=AzureNotebooks/0.5.0\nJPY_PARENT_PID=42\nUSERNAME=nbuser\nMAIL=/var/mail/nbuser\nPATH=/home/nbuser/anaconda3_501/bin:/usr/local/bin:/usr/local/sbin:/usr/local/bin:/usr/sbin:/usr/bin:/sbin:/bin:/snap/bin:/home/nbuser/.local/bin\nPWD=/home/nbuser/library/HACKERRANK/Algorithms\nR_LIBS=/home/nbuser/R:/usr/local/lib/R/site-library:/usr/lib/R/site-library:/usr/lib/R/library\nAZURE_NOTEBOOKS_SERVER_URL=http://localhost:25198/nb\nLANG=en_US.UTF-8\nNBUSER_ENV=yes\nhttps_proxy=http://webproxy:3128\nSUDO_COMMAND=/bin/bash /.start.sh 25198 https://notebooks.azure.com nb 0021_ansprod1935nb 6b2e02c532334fb693e79a18949977248703b4b426ec4973ad8f854aa10961fe e1160796-a49f-4f9c-8942-2b02900b024a ansprod1935nb VM\nSHLVL=2\nHOME=/home/nbuser\nAZURE_NOTEBOOKS_VMVERSION=dfcdb5e6e\nno_proxy=localhost,nbserver,127.0.0.1\nPYTHONPATH=/home/nbuser/library\nLOGNAME=nbuser\nSUDO_GID=0\nAZURE_NOTEBOOKS_HOST=https://notebooks.azure.com\n_=/home/nbuser/anaconda3_501/bin/python\nCLICOLOR=1\nPAGER=cat\nGIT_PAGER=cat\nMPLBACKEND=module://ipykernel.pylab.backend_inline\n",
          "name": "stdout"
        }
      ]
    },
    {
      "metadata": {
        "trusted": true
      },
      "cell_type": "code",
      "source": "os.environ.get('USER') # retrieve the valua of an environment variable currently set on the system",
      "execution_count": 7,
      "outputs": [
        {
          "output_type": "execute_result",
          "execution_count": 7,
          "data": {
            "text/plain": "'nbuser'"
          },
          "metadata": {}
        }
      ]
    },
    {
      "metadata": {
        "trusted": true
      },
      "cell_type": "code",
      "source": "os.getcwd()",
      "execution_count": 4,
      "outputs": [
        {
          "output_type": "execute_result",
          "execution_count": 4,
          "data": {
            "text/plain": "'/home/nbuser/library/HACKERRANK/Algorithms'"
          },
          "metadata": {}
        }
      ]
    },
    {
      "metadata": {},
      "cell_type": "markdown",
      "source": "### We can iterate through each dirpaths, dirnames and filenames in the folder using os module"
    },
    {
      "metadata": {
        "trusted": true
      },
      "cell_type": "code",
      "source": "for dirpath, dirnames, filenames in os.walk('/home/nbuser/library/HACKERRANK/'): # iterate through dirpath, dirnames, filenames\n                                                                                # using os module and os.walk() method\n    print('Directory path',dirpath)\n    print('Directory name',dirnames)\n    print('File name',filenames)\n    print()",
      "execution_count": 6,
      "outputs": [
        {
          "output_type": "stream",
          "text": "Directory path /home/nbuser/library/HACKERRANK/\nDirectory name ['Algorithms', 'Data Structures']\nFile name []\n\nDirectory path /home/nbuser/library/HACKERRANK/Algorithms\nDirectory name []\nFile name ['Algorithms Task 2.ipynb']\n\nDirectory path /home/nbuser/library/HACKERRANK/Data Structures\nDirectory name []\nFile name []\n\n",
          "name": "stdout"
        }
      ]
    },
    {
      "metadata": {},
      "cell_type": "markdown",
      "source": "### if __name__ == '__main__':"
    },
    {
      "metadata": {
        "trusted": true
      },
      "cell_type": "code",
      "source": "print (__name__)",
      "execution_count": 6,
      "outputs": [
        {
          "output_type": "stream",
          "text": "__main__\n",
          "name": "stdout"
        }
      ]
    },
    {
      "metadata": {
        "trusted": true
      },
      "cell_type": "code",
      "source": "print('First module\\'s name: {}'.format(__name__))",
      "execution_count": 7,
      "outputs": [
        {
          "output_type": "stream",
          "text": "First module's name: __main__\n",
          "name": "stdout"
        }
      ]
    },
    {
      "metadata": {
        "trusted": true
      },
      "cell_type": "code",
      "source": "def main():\n    print('File is run directly')\n    \nif __name__ == '__main__':\n    main()\nelse:\n    print('File run from import')",
      "execution_count": 13,
      "outputs": [
        {
          "output_type": "stream",
          "text": "File is run directly\n",
          "name": "stdout"
        }
      ]
    },
    {
      "metadata": {
        "trusted": true
      },
      "cell_type": "code",
      "source": "# use .main() method when the file is imported to call it directly \n!pwd # check current directory\n\nimport sys\nsys.path.insert(1, '/home/nbuser/library/HACKERRANK/Algorithms')\n\nimport file\nfile.main() # \n\nprint(__name__)\n",
      "execution_count": 26,
      "outputs": [
        {
          "output_type": "stream",
          "text": "/home/nbuser/library/HACKERRANK/Algorithms\r\n",
          "name": "stdout"
        },
        {
          "output_type": "error",
          "ename": "ModuleNotFoundError",
          "evalue": "No module named 'file'",
          "traceback": [
            "\u001b[0;31m---------------------------------------------------------------------------\u001b[0m",
            "\u001b[0;31mModuleNotFoundError\u001b[0m                       Traceback (most recent call last)",
            "\u001b[0;32m<ipython-input-26-1f5959b11c4f>\u001b[0m in \u001b[0;36m<module>\u001b[0;34m\u001b[0m\n\u001b[1;32m      5\u001b[0m \u001b[0msys\u001b[0m\u001b[0;34m.\u001b[0m\u001b[0mpath\u001b[0m\u001b[0;34m.\u001b[0m\u001b[0minsert\u001b[0m\u001b[0;34m(\u001b[0m\u001b[0;36m1\u001b[0m\u001b[0;34m,\u001b[0m \u001b[0;34m'/home/nbuser/library/HACKERRANK/Algorithms'\u001b[0m\u001b[0;34m)\u001b[0m\u001b[0;34m\u001b[0m\u001b[0m\n\u001b[1;32m      6\u001b[0m \u001b[0;34m\u001b[0m\u001b[0m\n\u001b[0;32m----> 7\u001b[0;31m \u001b[0;32mimport\u001b[0m \u001b[0mfile\u001b[0m\u001b[0;34m\u001b[0m\u001b[0m\n\u001b[0m\u001b[1;32m      8\u001b[0m \u001b[0mfile\u001b[0m\u001b[0;34m.\u001b[0m\u001b[0mmain\u001b[0m\u001b[0;34m(\u001b[0m\u001b[0;34m)\u001b[0m \u001b[0;31m#\u001b[0m\u001b[0;34m\u001b[0m\u001b[0m\n\u001b[1;32m      9\u001b[0m \u001b[0;34m\u001b[0m\u001b[0m\n",
            "\u001b[0;31mModuleNotFoundError\u001b[0m: No module named 'file'"
          ]
        }
      ]
    },
    {
      "metadata": {
        "trusted": true
      },
      "cell_type": "code",
      "source": "",
      "execution_count": 20,
      "outputs": [
        {
          "output_type": "stream",
          "text": "/home/nbuser/library/HACKERRANK/Algorithms\r\n",
          "name": "stdout"
        }
      ]
    },
    {
      "metadata": {
        "trusted": true
      },
      "cell_type": "code",
      "source": "import os\n\nos.environ['HOME'] # retrieve the pathname of my home directory ",
      "execution_count": 4,
      "outputs": [
        {
          "output_type": "execute_result",
          "execution_count": 4,
          "data": {
            "text/plain": "'/home/nbuser'"
          },
          "metadata": {}
        }
      ]
    },
    {
      "metadata": {
        "trusted": true
      },
      "cell_type": "code",
      "source": "w = 'asshole'.rstrip('hole')\nprint(w)",
      "execution_count": 17,
      "outputs": [
        {
          "output_type": "stream",
          "text": "ass\n",
          "name": "stdout"
        }
      ]
    },
    {
      "metadata": {},
      "cell_type": "markdown",
      "source": "## Map Function takes 2 arguments: function and iterable object (list, tuple, dict, etc)\n"
    },
    {
      "metadata": {
        "trusted": true
      },
      "cell_type": "code",
      "source": "# Given radii of circles. Need to return the area of the circles\n\nimport math \ndef area(r): # area of a circle with radius 'r'\n    return math.pi * (r**2)\n\nradii = [1.5,6.7,0.4,12.3,5.7]\n\n# we can calculate it through iteration using for-in loop\nareas = []\nfor r in radii:\n    a = area(r)\n    areas.append(a)\nprint(areas)\n\n# it can be done in 1 line using map function\n\ntype(map(area,radii)) # output of a map function is a map object - actually an iterator over the results\n\nlist(map(area,radii)) # turn map object to a list",
      "execution_count": 24,
      "outputs": [
        {
          "output_type": "stream",
          "text": "[7.0685834705770345, 141.0260942196458, 0.5026548245743669, 475.2915525615999, 102.07034531513239]\n",
          "name": "stdout"
        },
        {
          "output_type": "execute_result",
          "execution_count": 24,
          "data": {
            "text/plain": "[7.0685834705770345,\n 141.0260942196458,\n 0.5026548245743669,\n 475.2915525615999,\n 102.07034531513239]"
          },
          "metadata": {}
        }
      ]
    },
    {
      "metadata": {
        "trusted": true
      },
      "cell_type": "code",
      "source": "",
      "execution_count": null,
      "outputs": []
    }
  ],
  "metadata": {
    "kernelspec": {
      "name": "python36",
      "display_name": "Python 3.6",
      "language": "python"
    },
    "language_info": {
      "mimetype": "text/x-python",
      "nbconvert_exporter": "python",
      "name": "python",
      "pygments_lexer": "ipython3",
      "version": "3.6.6",
      "file_extension": ".py",
      "codemirror_mode": {
        "version": 3,
        "name": "ipython"
      }
    }
  },
  "nbformat": 4,
  "nbformat_minor": 1
}