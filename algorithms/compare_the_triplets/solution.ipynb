{
  "cells": [
    {
      "metadata": {},
      "cell_type": "markdown",
      "source": "## Compare the Triplets Challenge on Hackerrank\n"
    },
    {
      "metadata": {
        "trusted": true
      },
      "cell_type": "code",
      "source": "!pwd\n",
      "execution_count": 7,
      "outputs": [
        {
          "output_type": "stream",
          "text": "/home/nbuser/library/HACKERRANK/Algorithms\r\n",
          "name": "stdout"
        }
      ]
    },
    {
      "metadata": {
        "trusted": true
      },
      "cell_type": "code",
      "source": "# If a[i] > b[i], then Alice is awarded 1 point.\n# If a[i] < b[i], then Bob is awarded 1 point.\n# If a[i] = b[i], then neither person receives a point.",
      "execution_count": 1,
      "outputs": []
    },
    {
      "metadata": {
        "trusted": true
      },
      "cell_type": "code",
      "source": "def compareTriplets(a, b):\n\n    result = [] # iniializing empty list for results\n    a_score = 0\n    b_score = 0\n#     a_input = int(input('Enter Alice score'))\n#     b_input = int(input('Enter Bob score'))\n    \n#     while len(a) <= 3: # While loop should iterate while list len is less or equal 3\n#         a.append(a_input)\n#         b.append(b_input)\n#         a_input = int(input('Enter Alice score'))\n#         b_input = int(input('Enter Bob score'))\n    \n\n    for i in range(3): # iterating through 3 elements in lists a and b\n        if a[i] >= 1 and a[i] <= 100 and b[i] >= 1 and b[i] <= 100: # applying constraints for a[i] and b[i]\n\n            if a[i] > b[i]:\n                a_score += 1\n            elif a[i] < b[i]:\n                b_score += 1\n                \n#         else:\n#             print('Incorrect input! ')\n            \n#     result.append(a_score) # Alice's result is appended to the first position in the result list\n#     result.append(b_score) # Bob's result is appended to the second position in the result list\n    \n    return [a_score,b_score]\n\ncompareTriplets([17,28,30],[99,16,8])\n\n# compareTriplets([1,2,3],[3,2,1])",
      "execution_count": 10,
      "outputs": [
        {
          "output_type": "execute_result",
          "execution_count": 10,
          "data": {
            "text/plain": "[2, 1]"
          },
          "metadata": {}
        }
      ]
    },
    {
      "metadata": {
        "trusted": true
      },
      "cell_type": "code",
      "source": "",
      "execution_count": null,
      "outputs": []
    }
  ],
  "metadata": {
    "kernelspec": {
      "name": "python36",
      "display_name": "Python 3.6",
      "language": "python"
    },
    "language_info": {
      "mimetype": "text/x-python",
      "nbconvert_exporter": "python",
      "name": "python",
      "pygments_lexer": "ipython3",
      "version": "3.6.6",
      "file_extension": ".py",
      "codemirror_mode": {
        "version": 3,
        "name": "ipython"
      }
    }
  },
  "nbformat": 4,
  "nbformat_minor": 1
}