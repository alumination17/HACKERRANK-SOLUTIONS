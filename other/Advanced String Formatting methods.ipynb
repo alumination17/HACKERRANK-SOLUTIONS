{
  "cells": [
    {
      "metadata": {},
      "cell_type": "markdown",
      "source": "## Advanced String Formatting methods "
    },
    {
      "metadata": {},
      "cell_type": "markdown",
      "source": "### This is how format method is working\n"
    },
    {
      "metadata": {
        "trusted": true
      },
      "cell_type": "code",
      "source": "# Use .format() with empty {} or marked {0} {1} placeholders instead of string concatenation to create sentences\n\nperson = {'name':'Ilgiz','age':24}\nsentence = 'Hi! My name is {0} and I am {1} years old.'.format(person['name'],person['age'])\n\nprint(sentence)\n\n",
      "execution_count": 2,
      "outputs": [
        {
          "output_type": "stream",
          "text": "Hi! My name is Ilgiz and I am 24 years old.\n",
          "name": "stdout"
        }
      ]
    },
    {
      "metadata": {
        "trusted": true
      },
      "cell_type": "code",
      "source": "# use more convenient f method to format faster\n\nperson = {'name':'Ilgiz','age':24}\nprint(f'My name is {0} and I am {1} years old.')",
      "execution_count": 3,
      "outputs": [
        {
          "output_type": "stream",
          "text": "My name is 0 and I am 1 years old.\n",
          "name": "stdout"
        }
      ]
    },
    {
      "metadata": {
        "trusted": true
      },
      "cell_type": "code",
      "source": "# ordered placeholders to use strings repeatedly\n\ntext = 'This is a headline'\ntag = 'h1'\n\nprint('<{0}>{1}</{0}>'.format(tag, text)) ",
      "execution_count": 4,
      "outputs": [
        {
          "output_type": "stream",
          "text": "<h1>This is a headline</h1>\n",
          "name": "stdout"
        }
      ]
    },
    {
      "metadata": {
        "trusted": true
      },
      "cell_type": "code",
      "source": "# accessing keys from given dictionary directly within placeholders\n\n\nperson = {'name':'Ilgiz','age':24}\nsentence = 'Hi! My name is {0[name]} and I am {0[age]} years old.'.format(person)\n\nprint(sentence)\n",
      "execution_count": 5,
      "outputs": [
        {
          "output_type": "stream",
          "text": "Hi! My name is Ilgiz and I am 24 years old.\n",
          "name": "stdout"
        }
      ]
    },
    {
      "metadata": {
        "trusted": true
      },
      "cell_type": "code",
      "source": "# it also works with the list with referring to the corresponding index\n\nl = ['Ilgiz',24]\n\nprint('Hi! My name is {0[0]} and I am {0[1]} years old!'.format(l))",
      "execution_count": 7,
      "outputs": [
        {
          "output_type": "stream",
          "text": "Hi! My name is Ilgiz and I am 24 years old!\n",
          "name": "stdout"
        }
      ]
    },
    {
      "metadata": {
        "trusted": true
      },
      "cell_type": "code",
      "source": "# working with attribute\n\nclass Person():\n    def __init__(self, name, age):\n        self.name = name\n        self.age = age\n        \np_1 = Person('Ilgiz','24') # making an instance of this class \"Person\" \n\nsentence = 'My name is {0.name} and I am {0.age} years old!'.format(p_1) # instead of using [brackets] \n                                                                         # we use {index.attribute} value\nprint(sentence)",
      "execution_count": 9,
      "outputs": [
        {
          "output_type": "stream",
          "text": "My name is Ilgiz and I am 24 years old!\n",
          "name": "stdout"
        }
      ]
    },
    {
      "metadata": {
        "trusted": true
      },
      "cell_type": "code",
      "source": "# passing keywords to the placeholders\n\nsentence = 'My name is {name} and I am {age} years old!'.format(name='Ilgiz', age=24)\nprint(sentence)",
      "execution_count": 11,
      "outputs": [
        {
          "output_type": "stream",
          "text": "My name is Ilgiz and I am 24 years old!\n",
          "name": "stdout"
        }
      ]
    },
    {
      "metadata": {
        "trusted": true
      },
      "cell_type": "code",
      "source": "# unpacking dictionary for it to use keywords for us\n# most convenient way to print out dictionary values\n\nperson = {'name':'Ilgiz','age':24}\n\nsentence = 'Hi! My name is {name} and I am {age} years old!'.format(**person)\nprint(sentence)",
      "execution_count": 15,
      "outputs": [
        {
          "output_type": "stream",
          "text": "Hi! My name is Ilgiz and I am 24 years old!\n",
          "name": "stdout"
        }
      ]
    },
    {
      "metadata": {
        "trusted": true
      },
      "cell_type": "code",
      "source": "# when iterating through numbers use {:0X} within 'em placeholders to define numbers of zero pads needed \n\nfor i in range(1,11):\n    sentence = 'The value is {:02}'.format(i)\n    print(sentence)",
      "execution_count": 23,
      "outputs": [
        {
          "output_type": "stream",
          "text": "The value is 01\nThe value is 02\nThe value is 03\nThe value is 04\nThe value is 05\nThe value is 06\nThe value is 07\nThe value is 08\nThe value is 09\nThe value is 10\n",
          "name": "stdout"
        }
      ]
    },
    {
      "metadata": {
        "trusted": true
      },
      "cell_type": "code",
      "source": "# to define a number of decimal places needed use {:.xf} (number instead of x) within a placeholder  \n\nfrom math import pi\n\nsentence = \"Pi is equal to {:.12f}\".format(pi)\n\nprint(sentence)",
      "execution_count": 27,
      "outputs": [
        {
          "output_type": "stream",
          "text": "Pi is equal to 3.141592653590\n",
          "name": "stdout"
        }
      ]
    },
    {
      "metadata": {
        "trusted": true
      },
      "cell_type": "code",
      "source": "# If comma separator is needed to print out a large number, use comma {:,} within a placeholder\n\nsentence = '1 MB is equal to {:,} bytes.'.format(1000**2)\nprint(sentence)",
      "execution_count": 30,
      "outputs": [
        {
          "output_type": "stream",
          "text": "1 MB is equal to 1,000,000 bytes.\n",
          "name": "stdout"
        }
      ]
    },
    {
      "metadata": {
        "trusted": true
      },
      "cell_type": "code",
      "source": "# If several decimal places are needed after printing out a big num with comma separator\n# use .xf after a comma as per follows {:,.2f}\n\n\nsentence = '1 MB is equal to {:,.2f} bytes.'.format(1000**2)\nprint(sentence)",
      "execution_count": 31,
      "outputs": [
        {
          "output_type": "stream",
          "text": "1 MB is equal to 1,000,000.00 bytes.\n",
          "name": "stdout"
        }
      ]
    },
    {
      "metadata": {
        "trusted": true
      },
      "cell_type": "code",
      "source": "# formatting dates\n\nimport datetime\n\nmy_time = datetime.datetime(2020,9,22,14,35,0)\nprint(my_time)\n\nsentence = '{:%B %d,%Y}'.format(my_time)\nprint(sentence)",
      "execution_count": 37,
      "outputs": [
        {
          "output_type": "stream",
          "text": "2020-09-22 14:35:00\nSeptember 22,2020\n",
          "name": "stdout"
        }
      ]
    },
    {
      "metadata": {
        "trusted": true
      },
      "cell_type": "code",
      "source": "# advanced datetime formatting\n\n# Print out the setncence in the format as the example below \n# March 01, 2016 fell on a Tuesday and was the 061 day of the year.\n\nsentence = '{0:%B %d, %Y } fell on a {0:%A} and was the {0:%j} day of the year.'.format(my_time)\n# as the placeholders refer to the index of the argument (my_time) of format function, do not forget to spoecify the index (0)\n\nprint(sentence)",
      "execution_count": 41,
      "outputs": [
        {
          "output_type": "stream",
          "text": "September 22, 2020  fell on a Tuesday and was the 266 day of the year.\n",
          "name": "stdout"
        }
      ]
    },
    {
      "metadata": {
        "trusted": true
      },
      "cell_type": "code",
      "source": "",
      "execution_count": null,
      "outputs": []
    }
  ],
  "metadata": {
    "kernelspec": {
      "name": "python36",
      "display_name": "Python 3.6",
      "language": "python"
    },
    "language_info": {
      "mimetype": "text/x-python",
      "nbconvert_exporter": "python",
      "name": "python",
      "pygments_lexer": "ipython3",
      "version": "3.6.6",
      "file_extension": ".py",
      "codemirror_mode": {
        "version": 3,
        "name": "ipython"
      }
    }
  },
  "nbformat": 4,
  "nbformat_minor": 1
}